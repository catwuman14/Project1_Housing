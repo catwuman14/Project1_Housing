{
 "cells": [
  {
   "cell_type": "code",
   "execution_count": 2,
   "id": "319fe29f-f425-4e19-9ad2-66b1e0019f5b",
   "metadata": {},
   "outputs": [
    {
     "name": "stdin",
     "output_type": "stream",
     "text": [
      "Enter the year you want to query:  2018\n"
     ]
    },
    {
     "name": "stdout",
     "output_type": "stream",
     "text": [
      "    Year       Month  Inflation\n",
      "0   2018       enero      -0.58\n",
      "1   2018     febrero       0.29\n",
      "2   2018       marzo       0.59\n",
      "3   2018       abril       0.19\n",
      "4   2018        mayo       0.78\n",
      "5   2018       junio       0.10\n",
      "6   2018       julio       0.38\n",
      "7   2018      agosto       0.10\n",
      "8   2018  septiembre       0.19\n",
      "9   2018     octubre       0.19\n",
      "10  2018   noviembre      -0.67\n",
      "11  2018   diciembre       0.00\n"
     ]
    },
    {
     "name": "stdin",
     "output_type": "stream",
     "text": [
      "Do you want to perform another query? (yes/no):  yes\n",
      "Enter the year you want to query:  2019\n"
     ]
    },
    {
     "name": "stdout",
     "output_type": "stream",
     "text": [
      "    Year       Month  Inflation\n",
      "0   2018       enero      -0.58\n",
      "1   2018     febrero       0.29\n",
      "2   2018       marzo       0.59\n",
      "3   2018       abril       0.19\n",
      "4   2018        mayo       0.78\n",
      "5   2018       junio       0.10\n",
      "6   2018       julio       0.38\n",
      "7   2018      agosto       0.10\n",
      "8   2018  septiembre       0.19\n",
      "9   2018     octubre       0.19\n",
      "10  2018   noviembre      -0.67\n",
      "11  2018   diciembre       0.00\n",
      "12  2019       enero      -0.77\n",
      "13  2019     febrero       0.39\n",
      "14  2019       marzo       0.39\n",
      "15  2019       abril       0.96\n",
      "16  2019        mayo       0.19\n",
      "17  2019       junio       0.28\n",
      "18  2019       julio       0.47\n",
      "19  2019      agosto      -0.19\n",
      "20  2019  septiembre       0.00\n",
      "21  2019     octubre       0.09\n",
      "22  2019   noviembre      -0.75\n",
      "23  2019   diciembre       0.47\n"
     ]
    },
    {
     "name": "stdin",
     "output_type": "stream",
     "text": [
      "Do you want to perform another query? (yes/no):  yes\n",
      "Enter the year you want to query:  2020\n"
     ]
    },
    {
     "name": "stdout",
     "output_type": "stream",
     "text": [
      "    Year       Month  Inflation\n",
      "0   2018       enero      -0.58\n",
      "1   2018     febrero       0.29\n",
      "2   2018       marzo       0.59\n",
      "3   2018       abril       0.19\n",
      "4   2018        mayo       0.78\n",
      "5   2018       junio       0.10\n",
      "6   2018       julio       0.38\n",
      "7   2018      agosto       0.10\n",
      "8   2018  septiembre       0.19\n",
      "9   2018     octubre       0.19\n",
      "10  2018   noviembre      -0.67\n",
      "11  2018   diciembre       0.00\n",
      "12  2019       enero      -0.77\n",
      "13  2019     febrero       0.39\n",
      "14  2019       marzo       0.39\n",
      "15  2019       abril       0.96\n",
      "16  2019        mayo       0.19\n",
      "17  2019       junio       0.28\n",
      "18  2019       julio       0.47\n",
      "19  2019      agosto      -0.19\n",
      "20  2019  septiembre       0.00\n",
      "21  2019     octubre       0.09\n",
      "22  2019   noviembre      -0.75\n",
      "23  2019   diciembre       0.47\n",
      "24  2020       enero      -0.57\n",
      "25  2020     febrero       0.30\n",
      "26  2020       marzo       0.20\n",
      "27  2020       abril       0.10\n",
      "28  2020        mayo       0.00\n",
      "29  2020       junio       0.10\n",
      "30  2020       julio      -0.80\n",
      "31  2020      agosto       0.00\n",
      "32  2020  septiembre       0.00\n",
      "33  2020     octubre       0.20\n",
      "34  2020   noviembre      -0.20\n",
      "35  2020   diciembre       0.10\n"
     ]
    },
    {
     "name": "stdin",
     "output_type": "stream",
     "text": [
      "Do you want to perform another query? (yes/no):  no\n"
     ]
    }
   ],
   "source": [
    "import requests\n",
    "from bs4 import BeautifulSoup\n",
    "import pandas as pd\n",
    "\n",
    "# Function to fetch and parse inflation data for a given year\n",
    "def fetch_inflation_data(year):\n",
    "    # Build the URL using the provided year\n",
    "    url = f\"https://www.inflation.eu/es/tasas-de-inflacion/alemania/inflacion-historica/ipc-inflacion-alemania-{year}.aspx\"\n",
    "    \n",
    "    # Perform a GET request to the page\n",
    "    response = requests.get(url)\n",
    "    response.raise_for_status()  # Ensure the request was successful\n",
    "    \n",
    "    # Parse the page content with BeautifulSoup\n",
    "    soup = BeautifulSoup(response.content, 'html.parser')\n",
    "    \n",
    "    # Find all table rows <tr> with classes \"tabledata1\" or \"tabledata2\"\n",
    "    rows = soup.find_all('tr', class_=['tabledata1', 'tabledata2'])\n",
    "    \n",
    "    # Prepare a list to store the data\n",
    "    data = []\n",
    "    \n",
    "    # Extract relevant data from each row\n",
    "    for row in rows:\n",
    "        cells = row.find_all('td')\n",
    "        if len(cells) >= 2:\n",
    "            # Extract and clean the text from the cells\n",
    "            month_period = cells[0].get_text(strip=True)\n",
    "            monthly_rate = cells[1].get_text(strip=True)\n",
    "            \n",
    "            # Get the month name\n",
    "            month_name = month_period.split(' ')[0]\n",
    "            \n",
    "            # Remove percentage symbol and replace comma with a dot\n",
    "            monthly_rate_value = float(monthly_rate.replace('%', '').replace(',', '.'))\n",
    "            \n",
    "            # Append the data to the list\n",
    "            data.append({'Year': int(year), 'Month': month_name, 'Inflation': monthly_rate_value})\n",
    "    \n",
    "    return data\n",
    "\n",
    "# Main program loop\n",
    "complete_data = []  # Initialize an empty list for the complete data\n",
    "\n",
    "while True:\n",
    "    # Request the year from the user\n",
    "    year = input(\"Enter the year you want to query: \")\n",
    "    \n",
    "    # Fetch and append the data for the specified year\n",
    "    complete_data.extend(fetch_inflation_data(year))\n",
    "    \n",
    "    # Create a DataFrame with the collected data\n",
    "    df = pd.DataFrame(complete_data)\n",
    "    \n",
    "    # Display the DataFrame\n",
    "    print(df)\n",
    "    \n",
    "    # Ask if the user wants to perform another query\n",
    "    another_query = input(\"Do you want to perform another query? (yes/no): \").strip().lower()\n",
    "    \n",
    "    if another_query != 'yes':\n",
    "        break  # Exit the loop if the user does not want another query\n",
    "\n",
    "# If you want, you can save the DataFrame to a file here"
   ]
  },
  {
   "cell_type": "code",
   "execution_count": null,
   "id": "e77acb15-28c2-4827-a16c-783554f4e3f9",
   "metadata": {},
   "outputs": [],
   "source": [
    "df.to_excel('inflation_data.xlsx', index=False)"
   ]
  }
 ],
 "metadata": {
  "kernelspec": {
   "display_name": "Python [conda env:base] *",
   "language": "python",
   "name": "conda-base-py"
  },
  "language_info": {
   "codemirror_mode": {
    "name": "ipython",
    "version": 3
   },
   "file_extension": ".py",
   "mimetype": "text/x-python",
   "name": "python",
   "nbconvert_exporter": "python",
   "pygments_lexer": "ipython3",
   "version": "3.12.7"
  }
 },
 "nbformat": 4,
 "nbformat_minor": 5
}

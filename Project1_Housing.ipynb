{
 "cells": [
  {
   "cell_type": "code",
   "execution_count": 7,
   "id": "5146054b-1dad-4002-a4a9-b20d1452f4e4",
   "metadata": {},
   "outputs": [],
   "source": [
    "import pandas as pd\n",
    "\n",
    "file_csv_immo = 'immo_data.csv'\n",
    "\n",
    "df_immo = pd.read_csv(file_csv_immo)"
   ]
  },
  {
   "cell_type": "code",
   "execution_count": 15,
   "id": "9cf377b1-c870-4bab-8934-b7d36a8353f8",
   "metadata": {},
   "outputs": [],
   "source": [
    "file_csv_immo = 'immo_data.csv'\n",
    "\n",
    "regional_data = 'INGRESOS_REGIONES.xlsx'\n",
    "df_income_region = pd.read_excel(regional_data)\n",
    "df_immo = pd.read_csv(file_csv_immo)\n",
    "\n",
    "df = df_immo.merge(df_income_region, left_on='regio1', right_on='regions', how='left')"
   ]
  },
  {
   "cell_type": "code",
   "execution_count": 17,
   "id": "8021c994-e6aa-4a60-9519-f679a0c378ca",
   "metadata": {},
   "outputs": [],
   "source": [
    "df = df[df['date'].isin(['May19', 'Oct19'])]"
   ]
  },
  {
   "cell_type": "code",
   "execution_count": 19,
   "id": "6b4fe105-d9b6-463e-9687-50a250f6d108",
   "metadata": {},
   "outputs": [],
   "source": [
    "df = df.drop(columns=['serviceCharge', 'heatingType', 'telekomTvOffer', 'telekomHybridUploadSpeed', 'newlyConst', 'telekomUploadSpeed', 'noParkSpaces', 'firingTypes', 'yearConstructedRange', 'houseNumber', 'interiorQual', 'petsAllowed', 'street', 'streetPlain', 'thermalChar', 'noRoomsRange', 'livingSpaceRange', 'description', 'facilities', 'heatingCosts', 'numberOfFloors', 'energyEfficiencyClass', 'lastRefurbish', 'electricityBasePrice', 'electricityKwhPrice', 'geo_krs', 'geo_bln'])"
   ]
  },
  {
   "cell_type": "code",
   "execution_count": 21,
   "id": "116d81d3-8191-44f8-bd75-c59508560320",
   "metadata": {},
   "outputs": [
    {
     "name": "stdout",
     "output_type": "stream",
     "text": [
      "The percentage of empty cells in column regio1 is 0.0 %.\n",
      "The percentage of empty cells in column balcony is 0.0 %.\n",
      "The percentage of empty cells in column picturecount is 0.0 %.\n",
      "The percentage of empty cells in column pricetrend is 0.68 %.\n",
      "The percentage of empty cells in column totalRent is 14.98 %.\n",
      "The percentage of empty cells in column yearConstructed is 20.99 %.\n",
      "The percentage of empty cells in column scoutId is 0.0 %.\n",
      "The percentage of empty cells in column hasKitchen is 0.0 %.\n",
      "The percentage of empty cells in column cellar is 0.0 %.\n",
      "The percentage of empty cells in column baseRent is 0.0 %.\n",
      "The percentage of empty cells in column livingSpace is 0.0 %.\n",
      "The percentage of empty cells in column condition is 25.39 %.\n",
      "The percentage of empty cells in column lift is 0.0 %.\n",
      "The percentage of empty cells in column baseRentRange is 0.0 %.\n",
      "The percentage of empty cells in column typeOfFlat is 13.16 %.\n",
      "The percentage of empty cells in column geo_plz is 0.0 %.\n",
      "The percentage of empty cells in column noRooms is 0.0 %.\n",
      "The percentage of empty cells in column floor is 18.9 %.\n",
      "The percentage of empty cells in column garden is 0.0 %.\n",
      "The percentage of empty cells in column regio2 is 0.0 %.\n",
      "The percentage of empty cells in column regio3 is 0.0 %.\n",
      "The percentage of empty cells in column date is 0.0 %.\n",
      "The percentage of empty cells in column regions is 0.0 %.\n",
      "The percentage of empty cells in column BS_Insgesamt is 0.0 %.\n",
      "The percentage of empty cells in column BS_Männer is 0.0 %.\n",
      "The percentage of empty cells in column BS_Frauen is 0.0 %.\n",
      "The percentage of empty cells in column BF_Insgesamt is 0.0 %.\n",
      "The percentage of empty cells in column BF_Männer is 0.0 %.\n",
      "The percentage of empty cells in column BF_Frauen is 0.0 %.\n",
      "The percentage of empty cells in column GS_Insgesamt is 0.0 %.\n",
      "The percentage of empty cells in column GS_Männer is 0.0 %.\n",
      "The percentage of empty cells in column GS_Frauen is 0.0 %.\n"
     ]
    }
   ],
   "source": [
    "for x in df.columns:\n",
    "    print(f\"The percentage of empty cells in column {x} is {round(df[x].isna().sum()/len(df[x])*100,2)} %.\")"
   ]
  },
  {
   "cell_type": "code",
   "execution_count": 23,
   "id": "8ab6c5a5-a65f-44d6-9258-9b98ba9e783a",
   "metadata": {},
   "outputs": [
    {
     "name": "stdout",
     "output_type": "stream",
     "text": [
      "Empty DataFrame\n",
      "Columns: [regio1, balcony, picturecount, pricetrend, totalRent, yearConstructed, scoutId, hasKitchen, cellar, baseRent, livingSpace, condition, lift, baseRentRange, typeOfFlat, geo_plz, noRooms, floor, garden, regio2, regio3, date, regions, BS_Insgesamt, BS_Männer, BS_Frauen, BF_Insgesamt, BF_Männer, BF_Frauen, GS_Insgesamt, GS_Männer, GS_Frauen]\n",
      "Index: []\n",
      "\n",
      "[0 rows x 32 columns]\n"
     ]
    }
   ],
   "source": [
    "duplicates = df.duplicated()\n",
    "\n",
    "print(df[duplicates])"
   ]
  },
  {
   "cell_type": "code",
   "execution_count": 25,
   "id": "051abec7-f336-4db1-b531-8409b75539cf",
   "metadata": {},
   "outputs": [
    {
     "name": "stdout",
     "output_type": "stream",
     "text": [
      "Duplicated columns: ['regio1', 'regions']\n"
     ]
    }
   ],
   "source": [
    "# Transpose the DataFrame\n",
    "df_transposed = df.T\n",
    "\n",
    "# Find duplicated columns\n",
    "duplicates = df_transposed.duplicated(keep=False)\n",
    "\n",
    "# Get the names of the duplicated columns\n",
    "duplicate_names = df_transposed.index[duplicates]\n",
    "\n",
    "print(\"Duplicated columns:\", duplicate_names.tolist())"
   ]
  },
  {
   "cell_type": "code",
   "execution_count": 27,
   "id": "727430f6-fb63-4364-9305-47f5949f99dc",
   "metadata": {},
   "outputs": [],
   "source": [
    "df.drop('regions', axis=1, inplace=True)"
   ]
  },
  {
   "cell_type": "code",
   "execution_count": 31,
   "id": "30d91189-f3b4-42f9-9a22-2d4523ec5115",
   "metadata": {},
   "outputs": [],
   "source": [
    "df = df[df['livingSpace'] <= 500]"
   ]
  },
  {
   "cell_type": "code",
   "execution_count": 33,
   "id": "7ccb8628-f26e-4b27-af2d-4e0dc0569653",
   "metadata": {},
   "outputs": [],
   "source": [
    "df['yearConstructed'] = df['yearConstructed'].apply(lambda x: f\"{x:.0f}\" if x.is_integer() else x)"
   ]
  },
  {
   "cell_type": "code",
   "execution_count": 35,
   "id": "3db1391c-b6a5-449d-b976-7540aa676fb1",
   "metadata": {},
   "outputs": [],
   "source": [
    "condition_mapping = {'well_kept': 'pre-owned', 'refurbished': 'mint_condition', 'fully_renovated':'mint_condition', 'first_time_use':'mint_condition', 'mint_condition':'mint_condition', 'modernized':'mint_condition', 'first_time_use_after_refurbishment':'mint_condition', 'negotiable':'pre-owned', 'need_of_renovation':'need_of_renovation', 'ripe_for_demolition':'need_of_renovation'}\n",
    "df['condition'] = df['condition'].map(condition_mapping)"
   ]
  },
  {
   "cell_type": "code",
   "execution_count": 37,
   "id": "3afbcb23-36c6-4e46-8b2a-4f82b82864de",
   "metadata": {},
   "outputs": [],
   "source": [
    "# Define a function to categorize noRooms values\n",
    "def bucket_rooms(x):\n",
    "    if x < 2:\n",
    "        return '1 Room/Studio'\n",
    "    elif x < 3:\n",
    "        return '2 Rooms'\n",
    "    elif x < 4:\n",
    "        return '3 Rooms'\n",
    "    elif x < 5:\n",
    "        return '4 Rooms'\n",
    "    elif x <= 10:\n",
    "        return '5-10 Rooms'\n",
    "    elif x <= 20:\n",
    "        return '11-20 Rooms'\n",
    "    elif x <= 50:\n",
    "        return '21-50 Rooms'\n",
    "    else:\n",
    "        return '51+ Rooms'\n",
    "\n",
    "df['Room Category'] = df['noRooms'].apply(bucket_rooms)"
   ]
  },
  {
   "cell_type": "code",
   "execution_count": null,
   "id": "ff88c8e5-8c07-4fab-a0b6-fd46cd0b7fe4",
   "metadata": {},
   "outputs": [],
   "source": []
  }
 ],
 "metadata": {
  "kernelspec": {
   "display_name": "Python [conda env:base] *",
   "language": "python",
   "name": "conda-base-py"
  },
  "language_info": {
   "codemirror_mode": {
    "name": "ipython",
    "version": 3
   },
   "file_extension": ".py",
   "mimetype": "text/x-python",
   "name": "python",
   "nbconvert_exporter": "python",
   "pygments_lexer": "ipython3",
   "version": "3.12.7"
  }
 },
 "nbformat": 4,
 "nbformat_minor": 5
}
